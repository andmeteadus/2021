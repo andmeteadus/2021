{
 "cells": [
  {
   "cell_type": "markdown",
   "metadata": {},
   "source": [
    "# VI Kodutöö\n"
   ]
  },
  {
   "cell_type": "markdown",
   "metadata": {},
   "source": [
    "# I osa\n",
    "\n",
    "### Ülesanne 1.1 (**1 punkt**) \n",
    "\n",
    "Vaata Stanfordi Statistical Learning kursuse videot [hierarhilise klasterdamise kohta](https://www.youtube.com/watch?v=Tuuc9Y06tAc). Mida (uut) said teada hierarhilisest klasterdamisest?"
   ]
  },
  {
   "cell_type": "markdown",
   "metadata": {},
   "source": [
    "**<font color='red'>Vastus:</font>** Kirjuta vastus siia."
   ]
  },
  {
   "cell_type": "markdown",
   "metadata": {},
   "source": [
    "### Ülesanne 1.2 (**1 punkt**) \n",
    "\n",
    "Vaata Johns Hopkinsi videot [logistilise regressiooni kohta](https://www.youtube.com/watch?v=79q9avsyG9Y). Nimeta üks põhjus, miks lineaarne regressioon ei ole mõistlik valik binaarse y-tunnuse modelleerimiseks?"
   ]
  },
  {
   "cell_type": "markdown",
   "metadata": {},
   "source": [
    "**<font color='red'>Vastus:</font>** Kirjuta vastus siia."
   ]
  },
  {
   "cell_type": "markdown",
   "metadata": {},
   "source": [
    "### Ülesanne 1.3 (**2 punkti**) \n",
    "Joonista R-is logistiliste kõverate \n",
    "$$y = \\frac{e^{\\beta_0 + \\beta_1 x}}{1 + e^{\\beta_0 + \\beta_1 x}}$$\n",
    "graafikud:\n",
    "\n",
    "* Ühel joonisel $\\beta_0 \\in \\{-1, 0, 1\\}$ ja $\\beta_1 = 1$.\n",
    "* Teisel joonisel $\\beta_0 = 0$ ja $\\beta_1 \\in \\{0.5, 1, 2\\}$. \n",
    "\n",
    "Selgita, millist mõju omab $\\beta_0$ ja millist $\\beta_1$ muutmine (kommentaarina koodis)."
   ]
  },
  {
   "cell_type": "code",
   "execution_count": null,
   "metadata": {},
   "outputs": [],
   "source": [
    "# Ülesanne 1.3\n",
    "# sinu kood + kommentaar (millist mõju omab beta0 ja millist beta1 muutmine)\n"
   ]
  },
  {
   "cell_type": "markdown",
   "metadata": {},
   "source": [
    "### Ülesanne 1.4 (**1 punkt**) \n",
    "\n",
    "Loe artiklit http://www.postimees.ee/2721878/hoiatus-meie-vereproovist. Nimeta jutuks olnud teadusartikli põhitulemus. "
   ]
  },
  {
   "cell_type": "markdown",
   "metadata": {},
   "source": [
    "**<font color='red'>Vastus:</font>** Kirjuta vastus siia."
   ]
  },
  {
   "cell_type": "markdown",
   "metadata": {},
   "source": [
    "Soovitame sul katsuda jõudu tutvuda ka teadusartikli endaga [Biomarker Profiling by Nuclear Magnetic Resonance Spectroscopy for the Prediction of All-Cause Mortality: An Observational Study of 17,345 Persons](http://journals.plos.org/plosmedicine/article?id=10.1371/journal.pmed.1001606). Järgmises praktikumis kasutame sedasama andmestikku, millel see artikkel põhineb. \n"
   ]
  },
  {
   "cell_type": "markdown",
   "metadata": {},
   "source": [
    "# II osa - käsitsi kirjutatud numbrid\n",
    "\n",
    "### Sissejuhatus\n",
    "\n",
    "Andmebaasihaldurile Madis \"Select\" Baas meeldib süsteemianalüütik Katrin \"Süsteemne\" Kindlus. Lõuna ajal vahetavad nad salvrätikule kirjutatud binaarkoodis armastuskirju. Täna otsustas Madis Katrinile muljet avaldada ning ehitada automaatse binaarkoodi dekodeerija. Ta sattus aga probleemi otsa - kuidas automaatselt tuvastada, kas käsitsi kirjutatud number on 0 või 1?\n",
    "\n",
    "Selles praktikumis uurime käsitsi kirjutatud numbrite hingeelu.\n",
    "\n",
    "### Andmestik\n",
    "\n",
    "Selleks on meil kasutada andmestik, kus on palju näiteid käsitsi kirjutatud numbritest \"0\" ja \"1\". Kõik need näited on 28 x 28 piksli suurused mustvalged pildid. Igale pikslile vastab üks täisarv vahemikus 0, ..., 255, mis näitab antud piksli intensiivsust. Lisaks on kõigi nende näidete kohta teada, millist numbrit on konkreetsel pildil kujutatud. \n",
    "\n",
    "![](https://raw.githubusercontent.com/andmeteadus/2020/master/_praktikum6/numbrid/numbrid.png \"Binaarkood?\")\n",
    "\n",
    "Laadi alla andmestik [numbrid.csv](../data/numbrid.csv). Iga rida vastab ühele pildile. Andmestiku viimane veerg *label* näitab, kas tegu on nulli või ühega. Ülejäänud veerud näitavad vastava piksli intensiivsust, kusjuures pikslid on järjestatud ülalt alla (alates vasakust ülemisest nurgast). "
   ]
  },
  {
   "cell_type": "markdown",
   "metadata": {},
   "source": [
    "### Ülesanne 2.1 (2 punkti) - andmestikuga tutvumine\n",
    "\n",
    "a. Visualiseeri näiteid nii nullide kui ka ühtede seast. \n",
    "\n",
    "Näpunäited:\n",
    "\n",
    "* Abiks on ette antud funktsioon `plot_digit`, mille argumendiks sobib andmestiku üks rida (NB! ilma viimase veeruta)\n",
    "* Alamjooniste tegemisel on kasuks käsk `par(mfrow = c(mitu_rida, mitu_veergu))`\n",
    "* Ääriseid saad muuta `par(mar = c(bottom, left, top, right))`\n",
    "* Selleks, et saada esialgsed graafilisi parameetreid tagasi, võid käituda järgmiselt:\n",
    "\n",
    "```\n",
    "# Näiteks\n",
    "par(mfrow=c(2, 5), mar=c(1, 1, 1, 1) + 0.1)\n",
    "\n",
    "# Pärast taasta esialgsed graafilised parameetrid\n",
    "par(mfrow=c(1, 1), mar=c(5, 4, 4, 2) + 0.1)\n",
    "```"
   ]
  },
  {
   "cell_type": "code",
   "execution_count": null,
   "metadata": {},
   "outputs": [],
   "source": [
    "# Ülesanne 2.1a\n",
    "plot_digit = function(digit, ...){\n",
    "  cols = grey(seq(1, 0, length = 256))\n",
    "  image(t(matrix(as.numeric(digit), nrow=28, ncol=28)[28:1, ]), col = cols, ...)\n",
    "}\n",
    "\n",
    "# sinu kood, kus muudad graafilisi parameetreid mfrow ja mar\n",
    "# sinu kood\n"
   ]
  },
  {
   "cell_type": "markdown",
   "metadata": {},
   "source": [
    "b. Tutvu ka paketi *pheatmap* funktsionaalsusega ja visualiseeri nulle ja ühtesid. Abiks on ette antud funktsioon `plot_digit_pheatmap`.\n",
    "\n",
    "Näiteks nullide korral võiksid joonised välja näha umbes järgnevad. (Aga joonise mitmeks jagamine `mfrow` abil ei tööta siin. Raportisse saad väiksemad pildid, kui muudad koodiploki sätteid `fig.width`, `fig.height`.)\n",
    "\n",
    "![](https://raw.githubusercontent.com/andmeteadus/2020/master/_praktikum6/numbrid/nullid.png \"Nullid\")"
   ]
  },
  {
   "cell_type": "code",
   "execution_count": null,
   "metadata": {
    "eval": false
   },
   "outputs": [],
   "source": [
    "# Ülesanne 2.1b\n",
    "\n",
    "library(pheatmap)\n",
    "\n",
    "plot_digit_pheatmap = function(digit){\n",
    "  mat = matrix(as.numeric(digit), nrow=28, ncol=28)\n",
    "  pheatmap(mat, cluster_cols=FALSE, cluster_rows=FALSE)\n",
    "}\n",
    "\n",
    "# sinu kood"
   ]
  },
  {
   "cell_type": "markdown",
   "metadata": {},
   "source": [
    "c. Sorteeri andmestiku read selliselt, et üleval oleksid nullid ja all ühed. Visualiseeri kogu andmestikku kasutadaes `pheatmap` funktsiooni. Kasuta argumente `cluster_rows=FALSE, cluster_cols=FALSE`. Abiks on [pheatmap minimalistlik näide](../praktikum6_pheatmap_minimal).\n"
   ]
  },
  {
   "cell_type": "code",
   "execution_count": null,
   "metadata": {},
   "outputs": [],
   "source": [
    "# Ülesanne 2.1c\n",
    "# sinu kood"
   ]
  },
  {
   "cell_type": "markdown",
   "metadata": {},
   "source": [
    "d. **Küsimus:** Miks on punased triibud vaheldumisi sinistega?"
   ]
  },
  {
   "cell_type": "markdown",
   "metadata": {},
   "source": [
    "**<font color='red'>Vastus:</font>** Kirjuta vastus siia."
   ]
  },
  {
   "cell_type": "markdown",
   "metadata": {},
   "source": [
    "### Ülesanne 2.2 (4 punkti)\n",
    "\n",
    "a. Tee andmestikul PCA (kontrolli, et oled eelnevalt andmestikust eemaldanud tunnuse label). PCA tegemiseks kasuta funktsiooni `prcomp`. Abiks on [PCA minimalistlik näide](../praktikum6_pca_minimal). "
   ]
  },
  {
   "cell_type": "code",
   "execution_count": null,
   "metadata": {},
   "outputs": [],
   "source": [
    "# Ülesanne 2.2a\n",
    "# sinu kood\n"
   ]
  },
  {
   "cell_type": "markdown",
   "metadata": {},
   "source": [
    "b. **Küsimus:** Eelmisel korral vaatasid videot, kus näidati, et vahel on andmestiku \"efektiivne dimensionaalsus\" väiksem kui tunnuste arv. Milline on sinu arvates andmestiku \"efektiivne dimensionaalsus\" praegusel juhul?"
   ]
  },
  {
   "cell_type": "markdown",
   "metadata": {},
   "source": [
    "**<font color='red'>Vastus:</font>** Kirjuta vastus siia."
   ]
  },
  {
   "cell_type": "markdown",
   "metadata": {},
   "source": [
    "c. Tee hajuvusdiagramm PC1 vs PC2. Seejärel märgi joonisele, millised punktid kujutavad numbrit 0 ja millised numbrit 1 (võid kasutada värvi või argumenti `pch`)."
   ]
  },
  {
   "cell_type": "code",
   "execution_count": 5,
   "metadata": {},
   "outputs": [],
   "source": [
    "# Ülesanne 2.2c\n",
    "# sinu kood\n"
   ]
  },
  {
   "cell_type": "markdown",
   "metadata": {},
   "source": [
    "d. **Küsimus:** Mida võiks selle joonise põhjal tähistada PC1?"
   ]
  },
  {
   "cell_type": "markdown",
   "metadata": {},
   "source": [
    "**<font color='red'>Vastus:</font>** Kirjuta vastus siia."
   ]
  },
  {
   "cell_type": "markdown",
   "metadata": {},
   "source": [
    "e. Visualiseeri PCA kaalusid.\n",
    "\n",
    "Näpunäited:\n",
    "\n",
    "* Peakomponendid on lineaarkombinatsioonid esialgsetest tunnustest. Näiteks $PC1 = \\beta_1 * intensiivsus_{\\text{esimene_piksel}} + \\beta_2 * intensiivsus_{\\text{teine_piksel}} + \\cdots + \\beta_{784} * intensiivsus_{\\text{viimane_piksel}}$.\n",
    "* Tahame visualiseerida PC1 kaalusid $\\beta_1, \\cdots, \\beta_{784}$\n",
    "* Neid kaale saame visualiseerida sarnaselt numbritele (st 28 x 28 suuruse pildina)"
   ]
  },
  {
   "cell_type": "code",
   "execution_count": null,
   "metadata": {},
   "outputs": [],
   "source": [
    "# Ülesanne 2.2e\n",
    "# sinu kood\n"
   ]
  },
  {
   "cell_type": "markdown",
   "metadata": {},
   "source": [
    "f. **Küsimus:** Millistel pikslitel on absoluutväärtuselt suured kaalud? Interpreteeri selle abil PC1 tähendust (milliste pikslite intensiivsus peab olema suur ja milliste pikslite intensiivsus madal, et PC1 väärtus oleks võimalikult suur)."
   ]
  },
  {
   "cell_type": "markdown",
   "metadata": {},
   "source": [
    "**<font color='red'>Vastus:</font>** Kirjuta vastus siia."
   ]
  },
  {
   "cell_type": "markdown",
   "metadata": {},
   "source": [
    "### Ülesanne 2.3 (4 punkti)\n",
    "\n",
    "a. Tee nüüd PCA andmestikul, mis koosneb ainult nullidest. Lisaks tee hajuvusdiagramm PC1 vs PC2."
   ]
  },
  {
   "cell_type": "code",
   "execution_count": 2,
   "metadata": {},
   "outputs": [],
   "source": [
    "# Ülesanne 2.3a\n",
    "# sinu kood\n"
   ]
  },
  {
   "cell_type": "markdown",
   "metadata": {},
   "source": [
    "b. **Küsimus:** Kas oskad selle joonise põhjal tõlgendada peakomponente PC1 ja PC2?"
   ]
  },
  {
   "cell_type": "markdown",
   "metadata": {},
   "source": [
    "**<font color='red'>Vastus:</font>** Kirjuta vastus siia."
   ]
  },
  {
   "cell_type": "markdown",
   "metadata": {},
   "source": [
    "c. Vali üheksa numbrit tasandi erinevatest nurkadest ja visualiseeri neid funktsiooni `plot_digit` abil. (Järgmisel joonisel on tähistatud punasena 25 punkti tasandi erinevatest nurkadest. Paremal pool on näidatud number 3 jaoks võimalik tulemus. Sinul piisab võtta analoogilisest võrestikust 9 punktikest ja visualiseerida neid numbreid.)\n",
    "\n",
    "![](https://raw.githubusercontent.com/andmeteadus/2020/master/_praktikum6/numbrid/pca_example2.png \"Näide\")\n",
    "\n",
    "Näpunäide: Kasuks võib tulla funktsioon `identify`, mis aitab joonisele vajutades leida lähimad punktid. Uuri mida teeb järgmine koodiblokk:"
   ]
  },
  {
   "cell_type": "code",
   "execution_count": null,
   "metadata": {
    "eval": false,
    "lines_to_next_cell": 2
   },
   "outputs": [],
   "source": [
    "# Ülesanne 2.3c\n",
    "x = c(1,2,3)\n",
    "y = c(2,5,3)\n",
    "plot(x, y)\n",
    "identify(c(1,2,3), c(2,5,3), n=1)\n",
    "# kliki joonisel ja jälgi konsooli\n",
    "\n",
    "# sinu kood"
   ]
  },
  {
   "cell_type": "markdown",
   "metadata": {},
   "source": [
    "d. **Küsimus:** Kuidas tõlgendad selle joonise põhjal peakomponente PC1 ja PC2?"
   ]
  },
  {
   "cell_type": "markdown",
   "metadata": {},
   "source": [
    "**<font color='red'>Vastus:</font>** Kirjuta vastus siia."
   ]
  },
  {
   "cell_type": "markdown",
   "metadata": {
    "lines_to_next_cell": 0
   },
   "source": [
    "e. Punktikeste asemel visualiseeri numbreid. Lõpptulemus võiks välja näha umbes selline:\n",
    "\n",
    "![](https://raw.githubusercontent.com/andmeteadus/2020/master/_praktikum6/numbrid/nullid_pca.png \"Näide\")\n",
    "\n",
    "Näpunäited:\n",
    "\n",
    "* Kõigepealt joonista tühi aken.\n",
    "```\n",
    "plot(0, 0, type = \"n\", xlim=c(?, ?), ylim=c(?, ?))\n",
    "```\n",
    "* `for` tsükli abil lisa numbrid.\n",
    "* Sul ei ole vaja joonistada kõiki numbreid, sest numbrid võivad kattuda. Võid joonistada näiteks 500 numbrit.\n",
    "* Kui numbrid tulevad liiga väikesed, siis muuda argumenti `scale`.\n",
    "\n",
    "Siin oleme ette andnud täiendatud `plot_digit` funktsiooni, mis muudab valge läbipaistvaks (mis on kasulik, kui numbrid joonistuvad üksteise peale). "
   ]
  },
  {
   "cell_type": "code",
   "execution_count": 1,
   "metadata": {},
   "outputs": [],
   "source": [
    "plot_digit = function(digit, x=NA, y=NA, scale=1, add=FALSE, transparency=FALSE, ...){\n",
    "  if(is.na(x)){\n",
    "    x = 0\n",
    "  }\n",
    "  if(is.na(y)){\n",
    "    y = 0\n",
    "  }\n",
    "  \n",
    "  x_id = seq(x, x + scale, length=28)\n",
    "  y_id = seq(y, y + scale, length=28)\n",
    "  \n",
    "  if(transparency==TRUE){\n",
    "    tmp = as.character(round(seq(0, 0.99, length=256)*100))\n",
    "    tmp[nchar(tmp) == 1] = paste(\"0\", tmp[nchar(tmp) == 1], sep=\"\")\n",
    "    cols = colorRampPalette(c(\"#FFFFFF\", \"#000000\"))(256)\n",
    "    cols = paste(cols, tmp, sep=\"\")\n",
    "  }\n",
    "  else{\n",
    "    cols = grey(seq(1, 0, length = 256))\n",
    "  }\n",
    "  \n",
    "  image(x_id, y_id, t(matrix(as.numeric(digit), nrow=28, ncol=28)[28:1, ]),\n",
    "        col = cols, axes=F, asp=1, add=add, ...)\n",
    "}\n",
    "\n"
   ]
  },
  {
   "cell_type": "markdown",
   "metadata": {},
   "source": [
    "Minimaalne näide, kuidas `plot_digit` funktsiooni kasutada."
   ]
  },
  {
   "cell_type": "code",
   "execution_count": null,
   "metadata": {
    "eval": false
   },
   "outputs": [],
   "source": [
    "plot(0, 0, type = \"n\", xlim=c(0, 10), ylim=c(0, 10), asp=1)\n",
    "\n",
    "for(i in 1:5){\n",
    "  x = runif(1, 0, 10) # vaja muuta\n",
    "  y = runif(1, 0, 10) # vaja muuta\n",
    "  \n",
    "  plot_digit(nullid[i, -785], x, y, scale=1, add=TRUE, transparency = T)\n",
    "}"
   ]
  },
  {
   "cell_type": "markdown",
   "metadata": {},
   "source": [
    "![](https://raw.githubusercontent.com/andmeteadus/2020/master/_praktikum6/numbrid/pca_vis_min.png \"Näide\")"
   ]
  },
  {
   "cell_type": "code",
   "execution_count": 3,
   "metadata": {},
   "outputs": [],
   "source": [
    "# Ülesanne 2.3e\n",
    "# sinu kood\n"
   ]
  },
  {
   "cell_type": "markdown",
   "metadata": {},
   "source": [
    "f. **Küsimus:** Kuidas tõlgendad selle joonise põhjal peakomponente PC1 ja PC2?"
   ]
  },
  {
   "cell_type": "markdown",
   "metadata": {},
   "source": [
    "**<font color='red'>Vastus:</font>** Kirjuta vastus siia."
   ]
  },
  {
   "cell_type": "markdown",
   "metadata": {},
   "source": [
    "g. Tee samasugune joonis nagu eelmises punktis esialgse nullide ja ühtede andmestiku peal."
   ]
  },
  {
   "cell_type": "code",
   "execution_count": 4,
   "metadata": {},
   "outputs": [],
   "source": [
    "# Ülesanne 2.3g\n",
    "# sinu kood\n"
   ]
  },
  {
   "cell_type": "markdown",
   "metadata": {},
   "source": [
    "h. **Küsimus:** Kuidas tõlgendad selle joonise põhjal peakomponente PC1 ja PC2?"
   ]
  },
  {
   "cell_type": "markdown",
   "metadata": {},
   "source": [
    "**<font color='red'>Vastus:</font>** Kirjuta vastus siia."
   ]
  },
  {
   "cell_type": "markdown",
   "metadata": {},
   "source": [
    "### Boonusülesanne 2.1 (2 punkti) - implementeeri PCA\n",
    "\n",
    "Selle ülesande eesmärk on implementeerida omaenda PCA. Võid kasutada järgnevat pseudokoodi. \n",
    "\n",
    "PCA pseudokood:\n",
    "\n",
    "1. Tsentreeri andmestik (ehk lahuta igast tunnusest tema keskmine).  \n",
    "Tähistame tsentreeritud andmemaatriksit $X$ (vaatlused ridades, tunnused veergudes). \n",
    "\n",
    "2. Arvuta kovariatsioonimaatriks $X^T X$. (Näpunäide: maatriksite korrutamiseks on R-is operaator `%*%`, transponeerimiseks funktsioon `t()`.)\n",
    "\n",
    "3. Leia kovariatsioonimaatriksi omaväärtused ja omavektorid. (Näpunäide: Abiks on funktsioon `eigen`)\n",
    "\n",
    "4. Esimese omavektori elemendid on PC1 kordajad, teise omavektori elemendid PC2 kordajad jne. \n",
    "Kasuta nüüd neid kordajaid, et leida kõigi andmepunktide jaoks PC1 ja PC2 väärtus. Selleks tuleb vastavad lineaarkombinatsioonid arvutada kõigi $X$ ridade jaoks. \n",
    "\n",
    "> Näiteks kui esimese omavektori elemendid on $\\alpha_1, \\alpha_2, ..., \\alpha_k$, siis PC1 saadakse tsentreeritud tunnuste lineaarkombinatsioonina $PC_1 = \\alpha_1 X_{1} + \\alpha_2 X_{2} + ... + \\alpha_k X_{k}$. Siin $X_1$ tähistab tsentreeritud esimest tunnust, $X_2$ teist jne. \n",
    "\n",
    "5. Tagasta PC1 ja PC2 väärtused. \n",
    "\n",
    "6. Võrdle minimaalse näite põhjal, kas sinu PCA annab samu tulemusi, mis `prcomp`."
   ]
  },
  {
   "cell_type": "code",
   "execution_count": null,
   "metadata": {},
   "outputs": [],
   "source": [
    "# Ülesanne B2.1\n",
    "# sinu kood\n"
   ]
  },
  {
   "cell_type": "markdown",
   "metadata": {},
   "source": [
    "### Boonusülesanne 2.2 (2 punkti) - klassifitseeri numbreid\n",
    "\n",
    "Paku välja moodus, kuidas pikslite põhjal eristada numbreid 0 ja 1. Leia mitmel juhul sinu meetod prognoosib õigesti, mitmel juhul valesti ja raporteeri täpsus (õigete klassifitseerimiste arv koguarvust). Võiksid täpsuseks saada vähemalt 90%."
   ]
  },
  {
   "cell_type": "code",
   "execution_count": null,
   "metadata": {},
   "outputs": [],
   "source": [
    "# Ülesanne B2.2\n",
    "# sinu kood\n"
   ]
  },
  {
   "cell_type": "markdown",
   "metadata": {},
   "source": [
    "# III osa - riigikogu hääletusmustrid\n",
    "\n",
    "### Sissejuhatus\n",
    "\n",
    "Maidu \"Parem\" Käsi haaras lapsena kaisukaru küll vasaku käega, kuid ema sõnad \"vasak on paha, parem on parem\" ei teinud tast ainult paremakäelist, vaid need jäid alatiseks meelde. Näiteks meeldib Maidule kinos istuda kõige parempoosel pingil ja valimistel hääletada kõige parempoolse poliitiku poolt.\n",
    "Aga kuidas Maidu teab, kes on kõige parempoolne poliitik?\n",
    "\n",
    "Selles ülesanneteblokis vaatamegi, kas peakomponentanalüüsi abil on võimalik poliitikuid liigitada vasak- ja parempoolseteks ning milline on parlamendis valitsev kambavaim.\n",
    "\n",
    "### Andmestik\n",
    "\n",
    "Tegeleme andmestikuga, mis kajastab Riigikogu 13. koosseisu hääletusi. Kui viienda kodutöö neljandas ülesandes tuli alla kraapida vaid hümni seaduse tagasilükkamise tulemusi, siis käesolevalt on kasutada kõikide hääletuste tulemusi (välja on jäetud kohaloleku kontrolli ja muud mittesisukad hääletused). Täpsemalt on andmestikus tunnused:\n",
    "\n",
    "* Nimi - saadiku nimi\n",
    "* Fraktsioon - millisesse fraktsiooni kuulus saadik (kui saadik vahetas fraktsiooni, siis on näidatud kõige sagedasem fraktsioon, kuhu saadik Riigikogu XIII vältel kuulunud on)\n",
    "* Otsus - saadiku otsus (Poolt, Vastu, Erapooletu, Ei hääletanud, Puudub)\n",
    "* kpv - hääletuse kuupäev\n",
    "* id - hääletuse id\n",
    "\n",
    "Laadi alla andmestik [*Riigikogu_XIII.csv*](../data/Riigikogu_XIII.csv) ja loe töökeskkonda.\n"
   ]
  },
  {
   "cell_type": "markdown",
   "metadata": {},
   "source": [
    "### Ülesanne 3.1 (2 punkt) - andmestiku mudimine\n",
    "\n",
    "a) Muuda tunnus *Otsus* numbriliseks. Selleks kodeeri hääletused järgmiselt:\n",
    "\n",
    "* *Vastu* tähista arvuga -1\n",
    "* *Poolt* tähista arvuga 1\n",
    "* *Puudub, Erapooletu, Ei hääletanud* tähista arvuga 0\n",
    "\n",
    "Pane tähele, et väärtused oleksid numbrilised mitte sõned.\n",
    "\n",
    "b) Jäta välja saadikud, keda esineb andmestikus alla 5 korra."
   ]
  },
  {
   "cell_type": "code",
   "execution_count": 6,
   "metadata": {},
   "outputs": [],
   "source": [
    "# Ülesanne 3.1\n",
    "# sinu kood\n"
   ]
  },
  {
   "cell_type": "markdown",
   "metadata": {},
   "source": [
    "### Ülesanne 3.2 (3 punkti) - visualiseeri andmeid heatmapi abil\n",
    "\n",
    "a) Sorteeri andmestiku read fraktsiooni põhjal ja visualiseeri neid heatmapi abil. Tõlgenda tulemusi (lisa koodi kommentaarina).\n",
    "\n",
    "Näpunäide: \n",
    "\n",
    "* Selleks, et kasutada näiteks funktsiooni `pheatmap`, tuleb tekitada andmemaatriks, kus ridades on numbrilisele kujule viidud saadikute hääletused."
   ]
  },
  {
   "cell_type": "code",
   "execution_count": 7,
   "metadata": {},
   "outputs": [],
   "source": [
    "# Ülesanne 3.2a\n",
    "# sinu kood + tõlgendus\n"
   ]
  },
  {
   "cell_type": "markdown",
   "metadata": {},
   "source": [
    "b) Visualiseeri andmestikku heatmapi abil, aga seekord klasterda read. Tõlgenda tulemusi."
   ]
  },
  {
   "cell_type": "code",
   "execution_count": null,
   "metadata": {},
   "outputs": [],
   "source": [
    "# Ülesanne 3.2b\n",
    "# sinu kood + tõlgendus\n"
   ]
  },
  {
   "cell_type": "markdown",
   "metadata": {},
   "source": [
    "c) Visualiseeri andmestikku heatmapi abil, aga seekord klasterda nii read kui veerud. Tõlgenda tulemusi."
   ]
  },
  {
   "cell_type": "code",
   "execution_count": null,
   "metadata": {},
   "outputs": [],
   "source": [
    "# Ülesanne 3.2c\n",
    "# sinu kood + tõlgendus\n"
   ]
  },
  {
   "cell_type": "markdown",
   "metadata": {},
   "source": [
    "\n",
    "### Ülesanne 3.3 (1 punkt)\n",
    "\n",
    "Riigikogu 2015. aasta valimised võitis Reformierakond ning koalitsioonilepe sõlmiti REF, IRL ja SDE vahel. 2016. aasta sügisel see koalitsioon purunes. Sellega lõppes Reformierakonna enam kui 17 aastat järjest valitsuses oleku ajajärk ning Eesti sai 11-aastase vahe järel mittereformierakondlasest peaministri. 23. novembril 2016 algas Jüri Ratase valitsus, kus koalitsiooni moodustasid KESK, IRL ja SDE. \n",
    "\n",
    "Jaga sisseloetud andmestik *data* kaheks alamandmestikuks *data1* ja *data2*. Esimene neist sisaldagu enne kuupäeva 2016-11-23 toimunud hääletusi. Andmestik *data2* sisaldagu hääletusi alates kuupäevast 2016-11-23.\n",
    "\n",
    "Näpunäide:\n",
    "\n",
    "* Andmestikus olev tunnus *kpv* on hetkel sõnalisel kujul. Muuda see tunnus kuupäev-tüüpi tunnuseks, kasutades funktsiooni `as.Date()` ja parameetrit `format = \"%d.%m.%Y\"`.\n"
   ]
  },
  {
   "cell_type": "code",
   "execution_count": null,
   "metadata": {},
   "outputs": [],
   "source": [
    "# Ülesanne 3.3\n",
    "# sinu kood\n"
   ]
  },
  {
   "cell_type": "markdown",
   "metadata": {},
   "source": [
    "### Ülesanne 3.4 (3 punkti)\n",
    "\n",
    "a) Tee PCA esialgsele andmestikule. Visualiseeri kahte esimest peakomponenti hajuvusdiagrammi abil, seejuures värvi punktid fraktsioonide alusel. Tõlgenda tulemusi.\n",
    "\n",
    "Näpunäide:\n",
    "\n",
    "* PCA tegemiseks on vaja kasutada laias formaadis andmestikku, kus iga saadik on eraldi real ja veergudes on toimunud hääletustele vastavad otsused."
   ]
  },
  {
   "cell_type": "code",
   "execution_count": null,
   "metadata": {},
   "outputs": [],
   "source": [
    "# Ülesanne 3.4a\n",
    "# sinu kood + tõlgendus\n"
   ]
  },
  {
   "cell_type": "markdown",
   "metadata": {},
   "source": [
    "\n",
    "b) Tee PCA nii andmestikule *data1* kui ka *data2*. Mõlemal juhul visualiseeri kahte esimest peakomponenti hajuvusdiagrammi abil, seejuures värvi punktid fraktsioonide alusel. Tõlgenda tulemusi."
   ]
  },
  {
   "cell_type": "code",
   "execution_count": null,
   "metadata": {},
   "outputs": [],
   "source": [
    "# Ülesanne 3.4b\n",
    "# sinu kood + tõlgendus\n"
   ]
  },
  {
   "cell_type": "markdown",
   "metadata": {},
   "source": [
    "### Ülesanne 3.5 (1 punkt)\n",
    "\n",
    "a) Eelmises ülesandes rakendasid PCA-d andmestikule *data2* ja visualiseerisid seda kasutades kahte esimest komponenti. Kas piisab ka ühest komponendist?\n"
   ]
  },
  {
   "cell_type": "markdown",
   "metadata": {},
   "source": [
    "**<font color='red'>Vastus:</font>** Kirjuta vastus siia."
   ]
  },
  {
   "cell_type": "markdown",
   "metadata": {},
   "source": [
    "b) Kuidas võiks tõlgendada esimest peakomponenti? Kas see näitab vasak- ja parempoolsust?\n",
    "\n",
    "> Vasakpoolsust iseloomustab püüd riigi kaudu teostada sotsiaalset ja majanduslikku võrdsustamist. Parempoolsust iseloomustab põhimõte, mille kohaselt iga ühiskonna liige on ise vastutav oma sotsiaalse ja majandusliku heaolu eest. [Vikipeedia](http://et.wikipedia.org/wiki/Eesti_erakonnad_vasak-parem-skaalal)\n"
   ]
  },
  {
   "cell_type": "markdown",
   "metadata": {},
   "source": [
    "**<font color='red'>Vastus:</font>** Kirjuta vastus siia."
   ]
  },
  {
   "cell_type": "markdown",
   "metadata": {},
   "source": [
    "## <font color='red'>See oli viimane ülesanne! Palun jooksuta kogu Jupyter Notebook uuesti, et veenduda oma koodi töötamises! (`Kernel -> Restart and Run All`)</font>\n",
    "\n",
    "# Mida on vaja esitada?\n",
    "\n",
    "* I, II ja III osa kohta tuleb esitada vastustega Jupyter fail\n",
    "\n",
    "Lahendused esitada [Moodle keskkonna](https://moodle.ut.ee/course/view.php?id=8013#section-1) kaudu."
   ]
  },
  {
   "cell_type": "markdown",
   "metadata": {},
   "source": [
    "\n",
    "## Lahendamise aeg\n",
    "\n",
    "Lisaks võiksid mainida, kui palju aega kulus osa I, II ja III peale. Mida arvad ülesannetest (kasulikkus, huvitavus)?"
   ]
  },
  {
   "cell_type": "markdown",
   "metadata": {},
   "source": [
    "**<font color='red'>Kodutöö I osa lahendamiseks kulus:</font>** X h\n",
    "\n",
    "**<font color='red'>Kodutöö II osa lahendamiseks kulus:</font>** X h\n",
    "\n",
    "**<font color='red'>Kodutöö III osa lahendamiseks kulus:</font>** X h\n",
    "\n",
    "Ülesanded olid ... "
   ]
  },
  {
   "cell_type": "markdown",
   "metadata": {},
   "source": [
    "**Tänan vastamast!**"
   ]
  }
 ],
 "metadata": {
  "jupytext": {
   "cell_metadata_filter": "-all",
   "main_language": "R",
   "notebook_metadata_filter": "-all"
  },
  "kernelspec": {
   "display_name": "R",
   "language": "R",
   "name": "ir"
  },
  "language_info": {
   "codemirror_mode": "r",
   "file_extension": ".r",
   "mimetype": "text/x-r-source",
   "name": "R",
   "pygments_lexer": "r",
   "version": "3.6.1"
  }
 },
 "nbformat": 4,
 "nbformat_minor": 4
}
